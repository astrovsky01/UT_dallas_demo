{
 "cells": [
  {
   "cell_type": "code",
   "execution_count": null,
   "metadata": {},
   "outputs": [],
   "source": [
    "from IPython.display import Image, HTML\n",
    "import answers\n",
    "import os\n",
    "import pandas as pd"
   ]
  },
  {
   "cell_type": "markdown",
   "metadata": {},
   "source": [
    "# Biology Meets Computer Science"
   ]
  },
  {
   "cell_type": "markdown",
   "metadata": {},
   "source": [
    "## Table of Contents:\n",
    "\n",
    "  #### Part 1: How We Read the Geome\n",
    "  #### Part 2: Looking at Your Data\n",
    "  #### Part 3: Prepare Your Data\n",
    "  #### Part 4: Getting Results\n",
    "  #### Part 5: Reaching a Conclusion"
   ]
  },
  {
   "cell_type": "markdown",
   "metadata": {},
   "source": [
    "## Part 1: How We Read the Genome"
   ]
  },
  {
   "cell_type": "markdown",
   "metadata": {},
   "source": [
    "Recent decades have led to incredible advancements in both the rate and accuracy of data generation. This section will show you how modern technology has vastly changed the way genomic data can be recorded."
   ]
  },
  {
   "cell_type": "markdown",
   "metadata": {},
   "source": [
    "#### Sanger Sequencing"
   ]
  },
  {
   "cell_type": "code",
   "execution_count": null,
   "metadata": {},
   "outputs": [],
   "source": [
    "HTML('<iframe width=\"560\" height=\"315\" src=\"https://www.youtube.com/embed/6ldtdWjDwes\" frameborder=\"0\" allow=\"accelerometer; autoplay; encrypted-media; gyroscope; picture-in-picture\" allowfullscreen></iframe>')"
   ]
  },
  {
   "cell_type": "markdown",
   "metadata": {},
   "source": [
    "The video talked about how sanger sequencing allows the strand to be assembled like a puzzle. To see the pieces of this puzzle, a techinque called Gel Electrophoresis is used. Gel Electrophoresis moves molecules through an agar gel using an electric current.  The rate the molecules move is dictated by their size -- smaller molecules move faster and will end up closer to the positive end of the gel. Because of this, by taking a fragment of DNA or RNA, copying it, then chopping it up into smaller pieces and sorting them into rows based on which nucleic acid is at the end, the sequence can be discovered."
   ]
  },
  {
   "cell_type": "code",
   "execution_count": null,
   "metadata": {},
   "outputs": [],
   "source": [
    "Image(filename='./images/sanger1.png') "
   ]
  },
  {
   "cell_type": "markdown",
   "metadata": {},
   "source": [
    "What is the sequence shown in the image above?"
   ]
  },
  {
   "cell_type": "code",
   "execution_count": null,
   "metadata": {},
   "outputs": [],
   "source": [
    "answers.q1(\"ATGCTTCGGAT\")"
   ]
  },
  {
   "cell_type": "markdown",
   "metadata": {},
   "source": [
    "#### Lets try a couple more:"
   ]
  },
  {
   "cell_type": "code",
   "execution_count": null,
   "metadata": {},
   "outputs": [],
   "source": [
    "Image(filename='./images/sanger2.png') "
   ]
  },
  {
   "cell_type": "code",
   "execution_count": null,
   "metadata": {},
   "outputs": [],
   "source": [
    "answers.q2(\"AGGACTTTGACAT\")"
   ]
  },
  {
   "cell_type": "code",
   "execution_count": null,
   "metadata": {},
   "outputs": [],
   "source": [
    "Image(filename='./images/sanger3.png') "
   ]
  },
  {
   "cell_type": "code",
   "execution_count": null,
   "metadata": {},
   "outputs": [],
   "source": [
    "answers.q3(\"CTGGACTCAAGTT\")"
   ]
  },
  {
   "cell_type": "markdown",
   "metadata": {},
   "source": [
    "#### Modern Sequencing"
   ]
  },
  {
   "cell_type": "markdown",
   "metadata": {},
   "source": [
    "More modern techniques allow thousands of strands to be sequenced simultaneously. Furthermore, whereas older methods forced researchers to use exceedingly small fragments of the full sequence, newer techniques allow for a much longer fragment to be analyzed. The two most popular methods of sequencing come from the companies **Illimuna** and **Pacific BioSciences** (PacBio)."
   ]
  },
  {
   "cell_type": "markdown",
   "metadata": {},
   "source": [
    "Illumina sequencing amplifies the number of reads and sequences them in shorter (~200-500 bp) fragments, but does many thousadns of these fragments simultaneously, and reading multiple fragments from the same place, creating what is knownn as \"high sequence depth\". This increases accuracy of the reads, and allows larger datasets to be generated."
   ]
  },
  {
   "cell_type": "code",
   "execution_count": null,
   "metadata": {},
   "outputs": [],
   "source": [
    "HTML('<iframe width=\"560\" height=\"315\" src=\"https://www.youtube.com/embed/fCd6B5HRaZ8?start=135\" frameborder=\"0\" allow=\"accelerometer; autoplay; encrypted-media; gyroscope; picture-in-picture\" allowfullscreen></iframe>')"
   ]
  },
  {
   "cell_type": "markdown",
   "metadata": {},
   "source": [
    "PacBio takes an alternantive approach, called SMRT (single molecule, real-time) sequencing. By using longer strands and turning them into a loop and running dna polymeraze along it, much longer (up to 75,000 bp) sequences can be read at once. While the accuracy of any individual base is often lower in PacBio data than in Illumina data, the longer fragments allow for a much simpler assembly and mapping of reads later on."
   ]
  },
  {
   "cell_type": "code",
   "execution_count": null,
   "metadata": {},
   "outputs": [],
   "source": [
    "HTML('<iframe width=\"560\" height=\"315\" src=\"https://www.youtube.com/embed/v8p4ph2MAvI?start=135\" frameborder=\"0\" allow=\"accelerometer; autoplay; encrypted-media; gyroscope; picture-in-picture\" allowfullscreen></iframe>')"
   ]
  },
  {
   "cell_type": "markdown",
   "metadata": {},
   "source": [
    "## Part 2: Looking at Your Data"
   ]
  },
  {
   "cell_type": "markdown",
   "metadata": {},
   "source": [
    "You've now sequenced your reads, and it's time to see how well your data came out. Here is what one of the files that came back from the sequencer looks like:"
   ]
  },
  {
   "cell_type": "code",
   "execution_count": null,
   "metadata": {},
   "outputs": [],
   "source": [
    "with open(\"data/DL.fq\",  \"r\") as f:\n",
    "    for x in range(0,12):\n",
    "        line = f.readline().strip()\n",
    "        print(line)"
   ]
  },
  {
   "cell_type": "markdown",
   "metadata": {},
   "source": [
    "#### Question: What do the lines in the fastq files represent?\n",
    "A: Sequencer contact information, Sequence, Strand direction, Quality score\n",
    "\n",
    "B: Read/sequencer info, Sequence, Spacer, Quality score\n",
    "\n",
    "C: Read/sequencer info, Quality score, Strand Direction, Sequence\n",
    "\n",
    "D: Read database id for searching, Sequence, Spacer, Quality"
   ]
  },
  {
   "cell_type": "code",
   "execution_count": null,
   "metadata": {},
   "outputs": [],
   "source": [
    "answers.q4(\"C\")"
   ]
  },
  {
   "cell_type": "markdown",
   "metadata": {},
   "source": [
    "Now we can use some command line tools to see if the data is of good quality."
   ]
  },
  {
   "cell_type": "code",
   "execution_count": null,
   "metadata": {},
   "outputs": [],
   "source": [
    "!fastqc data/*.fq -o data/fastqc\n",
    "!multiqc -o data/multiqc data/fastqc/*_fastqc.zip"
   ]
  },
  {
   "cell_type": "code",
   "execution_count": null,
   "metadata": {},
   "outputs": [],
   "source": [
    "HTML('<iframe src=./data/multiqc/multiqc_report.html width=100% height=650></iframe>')"
   ]
  },
  {
   "cell_type": "markdown",
   "metadata": {},
   "source": [
    "In general, the data seems of ok quality, however the adapter sequences for the illumina system these data are still attached and must be removed for proper ananlysis."
   ]
  },
  {
   "cell_type": "markdown",
   "metadata": {},
   "source": [
    "#### Question: Which file has the most duplicate reads?"
   ]
  },
  {
   "cell_type": "code",
   "execution_count": null,
   "metadata": {},
   "outputs": [],
   "source": [
    "answers.q5(\"\")"
   ]
  },
  {
   "cell_type": "markdown",
   "metadata": {},
   "source": [
    "## Part 3: Prepare Your Data"
   ]
  },
  {
   "cell_type": "markdown",
   "metadata": {},
   "source": [
    "With the sequenced reads, quantitative anlysis can almost begin. First, the data needs to be prepared and standardized. **Cutadapt** is a tool that can help. It will do 3 things in this case:\n",
    "\n",
    "1. Remove the adapter sequences identified above\n",
    "2. Remove bad quality reads\n",
    "3. Remove too short reads\n"
   ]
  },
  {
   "cell_type": "code",
   "execution_count": null,
   "metadata": {},
   "outputs": [],
   "source": [
    "!for file in data/*.fq; do cutadapt -a AGATCGGAAGAGCACACGTCTGAACTCCAGTCAC -u 20 -O 20 -q 20 -m 80 --quiet -o $file.out $file; done;"
   ]
  },
  {
   "cell_type": "markdown",
   "metadata": {},
   "source": [
    "With that one command, all of the data has been trimmed and filtered. Let's take another look"
   ]
  },
  {
   "cell_type": "code",
   "execution_count": null,
   "metadata": {},
   "outputs": [],
   "source": [
    "!fastqc -o data/fastqc data/*.fq.out\n",
    "!multiqc -n trimmedreads -o data/multiqc data/fastqc/*out_fastqc.zip"
   ]
  },
  {
   "cell_type": "code",
   "execution_count": null,
   "metadata": {},
   "outputs": [],
   "source": [
    "HTML('<iframe src= data/multiqc/trimmedreads.html width=100% height=650></iframe>')"
   ]
  },
  {
   "cell_type": "markdown",
   "metadata": {},
   "source": [
    "## Part 4: Getting Results"
   ]
  },
  {
   "cell_type": "markdown",
   "metadata": {},
   "source": [
    "Now we need to convert this:"
   ]
  },
  {
   "cell_type": "code",
   "execution_count": null,
   "metadata": {},
   "outputs": [],
   "source": [
    "with open(\"data/DL.fq.out\",  \"r\") as f:\n",
    "    for x in range(0,4):\n",
    "        line = f.readline().strip()\n",
    "        print(line)"
   ]
  },
  {
   "cell_type": "markdown",
   "metadata": {},
   "source": [
    "into something like this:"
   ]
  },
  {
   "cell_type": "code",
   "execution_count": null,
   "metadata": {},
   "outputs": [],
   "source": [
    "Image(filename='./images/count_matrix.png') "
   ]
  },
  {
   "cell_type": "markdown",
   "metadata": {},
   "source": [
    "This is called a counts matrix. It lists all of the genes identified in the data and tells the number of reads came from that gene. The process of associating the reads from your file to the established genes of a give species is known as **mapping** or **aligning**.\n",
    "\n",
    "Because this can be a slow and computationally expensive process, the mapping has been performed for you using a tool called **HISAT2**.\n",
    "\n",
    "The file returned here is not the final counts file but  instead a \"Sequence Alignment/Map\" or **SAM** file, an example of which is shown below"
   ]
  },
  {
   "cell_type": "markdown",
   "metadata": {},
   "source": [
    "readID43GYAX15:7:1:1202:19894/1 &emsp; 256 &emsp;   contig87  &emsp;  540849 &emsp;   1  &emsp;  65M &emsp;   *  &emsp;  0  &emsp;  0 &emsp;   CCTGCACGAACGAAATCCGCATGCGTCTGGTCGTTGTACGGAACGGCGGTTGTGTGACGAACGGC &emsp;   EDDEEDEE=EE?DE??DDDBADEBEFFFDBEFFEBCBC=?BEEEE@=:?::?7?:8-6?7?@??# &emsp; AS:i:0 &emsp;  XS:i:0 &emsp; XN:i:0 &emsp;  XM:i:0 &emsp; XO:i:0 &emsp; XG:i:0 &emsp;  NM:i:0 &emsp;   MD:Z:65  &emsp;  YT:Z:UU"
   ]
  },
  {
   "cell_type": "markdown",
   "metadata": {},
   "source": [
    "Each part of the above string represents somehting important about a given read that has been associated with a gene at a location in the referece data:\n",
    "\n",
    "QNAME&emsp;FLAG&emsp;RNAME&emsp;POS&emsp;MAPQ&emsp;CIGAR&emsp;RNEXT&emsp;PNEXT&emsp;TLEN&emsp;SEQ&emsp;QUAL&emsp;TAGS\n",
    "\n",
    "Translated, these correspond to:\n",
    "\n",
    "1. QNAME: Query template NAME. Reads/segments having identical QNAME are regarded to come from the same template. A QNAME ‘\\*’ indicates the information is unavailable. In a SAM file, a read maoccupy multiple alignment lines, when its alignment is chimeric or when multiple mappings are given.\n",
    "\n",
    "\n",
    "2. FLAG: Combination of bitwise flag values denoting various information about the mapped sequence\n",
    "\n",
    "\n",
    "3. RNAME: Reference sequence name of the alignment.\n",
    "\n",
    "\n",
    "4. POS: 1-based leftmost mapping Position\n",
    "\n",
    "\n",
    "5. MAPQ: Mapping quality\n",
    "\n",
    "\n",
    "6. CIGAR: String denoting the relationship between the reference sequece and the mapped read\n",
    "\n",
    "\n",
    "7. RNEXT: Reference sequence name of the primary alignment of the NEXT read in the template.\n",
    "\n",
    "\n",
    "8. PNEXT: 1-based Position of the primary alignment of the next read in the template\n",
    "\n",
    "\n",
    "9. TLEN: signed observed Template length\n",
    "\n",
    "\n",
    "10. SEQ: Segment sequence\n",
    "\n",
    "\n",
    "11. QUAL: Segment quality scores\n",
    "\n",
    "\n",
    "12. TAGS: Extra information about the aligned sequence"
   ]
  },
  {
   "cell_type": "markdown",
   "metadata": {},
   "source": [
    "Now that the sequences have been aligned, the locations for each read has been established. Now the locations need to be associated with a gene and a counts table generated. For that, we use the tool **featureCounts**. To avoid requiring large reference data to be downloaded, this has also been performed for you. You can see some of the data below."
   ]
  },
  {
   "cell_type": "code",
   "execution_count": null,
   "metadata": {},
   "outputs": [],
   "source": [
    "pd.read_csv(\"./data/counts_table.tsv\", sep = \"\\t\", index_col = 0)"
   ]
  },
  {
   "cell_type": "markdown",
   "metadata": {},
   "source": [
    "## Part 5: Making the Data Meaningful"
   ]
  },
  {
   "cell_type": "markdown",
   "metadata": {},
   "source": [
    "As mentioned before, a higher gene count number shows a highly expressed gene, but not necessarily that the gene is expressed more or less in a given experiment -- some genes are inherently expressed more or less. For that reason, this table must be **normalized** and then analyzed for **differentially expressed genes**.\n",
    "\n",
    "This notebook has been working in the laguage **Python** and occasionally **Bash**, two of the major programming languages in a bioinformatician's toolkit. Now it is time to switch over to one of the other big languages, **R**. Please exit this notebook and open the file **UT_Dallas_demo_p2.ipynb**."
   ]
  }
 ],
 "metadata": {
  "kernelspec": {
   "display_name": "Python 3",
   "language": "python",
   "name": "python3"
  },
  "language_info": {
   "codemirror_mode": {
    "name": "ipython",
    "version": 3
   },
   "file_extension": ".py",
   "mimetype": "text/x-python",
   "name": "python",
   "nbconvert_exporter": "python",
   "pygments_lexer": "ipython3",
   "version": "3.7.6"
  }
 },
 "nbformat": 4,
 "nbformat_minor": 2
}
