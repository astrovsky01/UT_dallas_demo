{
 "cells": [
  {
   "cell_type": "code",
   "execution_count": null,
   "metadata": {},
   "outputs": [],
   "source": [
    "library(DESeq2)\n",
    "library(tidyverse)\n",
    "library(genefilter)\n",
    "library(pheatmap)\n",
    "library(sva)\n",
    "library(RColorBrewer)\n",
    "library(apeglm)"
   ]
  },
  {
   "cell_type": "markdown",
   "metadata": {},
   "source": [
    "## Part 5: Making the Data Meaningful\n",
    "\n",
    "Welcome to **R**! In the last notebook, data was retrieved from the sample, converted into quantitative measurements, then assembled into a summary counts table. Let's take a look at the current shape of the data:"
   ]
  },
  {
   "cell_type": "code",
   "execution_count": null,
   "metadata": {},
   "outputs": [],
   "source": [
    "data <- read.csv(\"./data/counts_table.tsv\", header=TRUE, sep=\"\\t\",  row.names = 1)\n",
    "data"
   ]
  },
  {
   "cell_type": "markdown",
   "metadata": {},
   "source": [
    "While many genes have reads, some have no reads, making this a matrix full of many zero values, or what is known as a **sparse matrix**. These zeros can make it difficult to analyze the data, as sometimes a zero value doesn't truly mean there was no expression in a sample for a gene -- just that it didn't get picked up by the sequencer. For that reason, we have to remove all of the genes that have no values at all."
   ]
  },
  {
   "cell_type": "code",
   "execution_count": null,
   "metadata": {},
   "outputs": [],
   "source": [
    "data <- as.matrix(data)\n",
    "condition <- factor(c(rep(\"Basal\", 3), rep(\"Luminal\", 3)))\n",
    "coldata <- data.frame(\"replicate\" = colnames(data), condition)\n",
    "deseqrna <- DESeqDataSetFromMatrix(countData = data, colData = coldata, design = ~condition)\n",
    "deseqrna <- deseqrna[ rowSums(counts(deseqrna)) > 1, ]\n",
    "counts(deseqrna)"
   ]
  },
  {
   "cell_type": "markdown",
   "metadata": {},
   "source": [
    "Once trimmed down, the data has gone from 27179 genes to 13860. This is a good start, but now the data needs to be standardized againsnt outlier values"
   ]
  },
  {
   "cell_type": "code",
   "execution_count": null,
   "metadata": {},
   "outputs": [],
   "source": [
    "variance <- vst(deseqrna, blind = T)"
   ]
  },
  {
   "cell_type": "markdown",
   "metadata": {},
   "source": [
    "Finally, it's time to view our data. Don't worry about the math that goes into these for now, just recongnize that, without the programs that have been created for these ananlyses, getting these results would be next to impossible."
   ]
  },
  {
   "cell_type": "markdown",
   "metadata": {},
   "source": [
    "## Comparison between samples\n",
    "\n",
    "This graph shows how similar each of the samples are to one another. The darkest red diagonal shows that the sets are identical -- which makes sense since it's being compared to itself."
   ]
  },
  {
   "cell_type": "code",
   "execution_count": null,
   "metadata": {},
   "outputs": [],
   "source": [
    "rnadist <- dist(t(assay(variance)))\n",
    "rnadistmatrix <- as.matrix(rnadist)\n",
    "rownames(rnadistmatrix) <- paste(variance$dex, variance$cell, sep = \" - \")\n",
    "colnames(rnadistmatrix) <- NULL\n",
    "colors <- colorRampPalette( rev(brewer.pal(9, \"Reds\")) )(255)\n",
    "pheatmap(rnadistmatrix,\n",
    "         clustering_distance_rows = rnadist,\n",
    "         clustering_distance_cols = rnadist,\n",
    "         col = colors,\n",
    "         cellheight = 35, cellwidth = 35,\n",
    "         main = \"Sample-to-sample distances\")"
   ]
  },
  {
   "cell_type": "markdown",
   "metadata": {},
   "source": [
    "Multidimensional scalign is complicated, but boils down to taking all of the differences between data points and represeting as best as possible in two or three dimensions. This graph shows that the Basal samples are more similar to one another than the luminal samples, since their  points are more closely clustered."
   ]
  },
  {
   "cell_type": "code",
   "execution_count": null,
   "metadata": {},
   "outputs": [],
   "source": [
    "pca <- plotPCA(variance, intgroup = c(\"replicate\", \"condition\"), returnData = T)\n",
    "pvar <- round(100 * attr(pca, \"percentVar\"))\n",
    "ggplot(pca, aes(x = PC1, y = PC2, color = condition)) + geom_point() +\n",
    "  xlab(paste0(\"PC1: \", pvar[1], \"% variance\")) +\n",
    "  ylab(paste0(\"PC2: \", pvar[2], \"% variance\")) +\n",
    "  coord_fixed()"
   ]
  },
  {
   "cell_type": "markdown",
   "metadata": {},
   "source": [
    "This next graph shows the actual change in gene expression between the Basal and Luminal datasets, with genes that have real differences in expression levels, not just the natural fluctuations, highlighted in red. The gene circled and labeled is the most differentially expressed gene between the two."
   ]
  },
  {
   "cell_type": "code",
   "execution_count": null,
   "metadata": {},
   "outputs": [],
   "source": [
    "deseqsetrna <- DESeq(deseqrna) \n",
    "res <- results(deseqsetrna, alpha = 0.05,  contrast = c(\"condition\", \"Basal\", \"Luminal\"))\n",
    "ressub <- subset(res, padj <= 0.05)\n",
    "mostsig <- rownames(res)[which.min(res$padj)]\n",
    "reslfc <- lfcShrink(deseqsetrna, coef=\"condition_Luminal_vs_Basal\", type=\"apeglm\")\n",
    "plotMA(reslfc, ylim = c(-10,10), colSig=\"red\")\n",
    "title(\"Altered Regulation in Basal vs Luminal Cells\")\n",
    "with(res[mostsig, ], {\n",
    "  points(baseMean, log2FoldChange, col=\"dodgerblue\", cex=2, lwd=2)\n",
    "  text(baseMean, log2FoldChange, mostsig, pos=2, col=\"dodgerblue\")\n",
    "})"
   ]
  },
  {
   "cell_type": "markdown",
   "metadata": {},
   "source": [
    "Finally, let's look at how many genes are differentially expressed. A p-value denotes **significance**. p represents the likelyhood the null hypothesis is true, that two datasets are actually subsets of the same set, in percent. When p <0.05, it is understood that there is a real difference between the compared data, and less than a 5% chance that the difference was just due to lucky sampling. The method of calculating p is different depending on the type of data."
   ]
  },
  {
   "cell_type": "code",
   "execution_count": null,
   "metadata": {},
   "outputs": [],
   "source": [
    "hist(res$pvalue[res$baseMean > 1], breaks = 0:20/20,\n",
    "     col = \"purple\", border = \"white\", main = \"Distrubution of p-Values\",\n",
    "     xlab = \"pval\")"
   ]
  },
  {
   "cell_type": "markdown",
   "metadata": {},
   "source": [
    "### Question: About how many genes are significantly differentially expressed?"
   ]
  },
  {
   "cell_type": "markdown",
   "metadata": {},
   "source": [
    "# Congratulations, you've completed the demo!\n",
    "## Now let's hear from you! Any questions?"
   ]
  }
 ],
 "metadata": {
  "kernelspec": {
   "display_name": "R",
   "language": "R",
   "name": "ir"
  },
  "language_info": {
   "codemirror_mode": "r",
   "file_extension": ".r",
   "mimetype": "text/x-r-source",
   "name": "R",
   "pygments_lexer": "r",
   "version": "4.0.2"
  }
 },
 "nbformat": 4,
 "nbformat_minor": 4
}
